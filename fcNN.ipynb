{
 "cells": [
  {
   "cell_type": "markdown",
   "metadata": {},
   "source": [
    "## import modules"
   ]
  },
  {
   "cell_type": "code",
   "execution_count": 4,
   "metadata": {
    "collapsed": true
   },
   "outputs": [],
   "source": [
    "import pandas as pd\n",
    "import numpy as np\n",
    "%matplotlib inline\n",
    "import matplotlib.pyplot as plt\n",
    "import glob\n",
    "import random\n",
    "from sklearn.metrics import roc_auc_score\n",
    "from sklearn.metrics import roc_curve"
   ]
  },
  {
   "cell_type": "code",
   "execution_count": 5,
   "metadata": {
    "collapsed": true
   },
   "outputs": [],
   "source": [
    "\n",
    "import time\n",
    "import torch\n",
    "import torch.optim as optim\n",
    "from torch import nn\n",
    "from torch.autograd import Variable\n",
    "from torch.optim.lr_scheduler import ReduceLROnPlateau\n",
    "import torchvision\n",
    "import torchvision.models as models\n",
    "import torch.utils.model_zoo as model_zoo\n",
    "import torchvision.transforms as transforms\n",
    "from torchvision import datasets\n",
    "\n",
    "import torch.nn.functional as F"
   ]
  },
  {
   "cell_type": "code",
   "execution_count": 142,
   "metadata": {
    "collapsed": true
   },
   "outputs": [],
   "source": [
    "\n",
    "from torch.utils.data import DataLoader, TensorDataset\n",
    "from pyspark.sql import SparkSession\n",
    "from pyspark.sql.functions import *\n",
    "from pyspark import SparkContext\n"
   ]
  },
  {
   "cell_type": "markdown",
   "metadata": {},
   "source": [
    "## load extracted features "
   ]
  },
  {
   "cell_type": "code",
   "execution_count": 7,
   "metadata": {
    "collapsed": true
   },
   "outputs": [],
   "source": [
    "\n",
    "path_to_train_dataset = \"outputs/train_dataset20180327-092337\"\n",
    "#path_to_train_dataset_info = \"outputs/train_dataset_info20180326-014122\"\n",
    "path_to_valid_dataset = \"outputs/valid_dataset20180327-144622\"\n",
    "#path_to_valid_dataset_info = \"outputs/valid_dataset_info20180326-014124\"\n",
    "path_to_test_dataset = \"outputs/test_dataset20180327-153245\"\n",
    "#path_to_test_dataset_info = \"outputs/test_dataset_info20180325-230951\""
   ]
  },
  {
   "cell_type": "code",
   "execution_count": 8,
   "metadata": {
    "collapsed": true
   },
   "outputs": [],
   "source": [
    "spark = SparkSession.builder.appName('X14').getOrCreate()\n",
    "\n",
    "train = spark.sparkContext.textFile(path_to_train_dataset)\n",
    "\n",
    "train_splits = train.randomSplit([1] * 12, 2018)"
   ]
  },
  {
   "cell_type": "code",
   "execution_count": 9,
   "metadata": {
    "collapsed": false
   },
   "outputs": [],
   "source": [
    "train_data = np.array(train_splits[0].map(lambda x: np.array(x.split(\",\"),dtype=np.float32)).collect())\n",
    "for i in range(1,len(train_splits)):\n",
    "    train_data = np.row_stack((train_data,np.array(train_splits[i].map(lambda x: np.array(x.split(\",\"),dtype=np.float32)).collect())))"
   ]
  },
  {
   "cell_type": "code",
   "execution_count": 10,
   "metadata": {
    "collapsed": true
   },
   "outputs": [],
   "source": [
    "valid = spark.sparkContext.textFile(path_to_valid_dataset)\n",
    "\n",
    "valid_splits = valid.randomSplit([1] * 12, 2018)\n",
    "valid_data = np.array(valid_splits[0].map(lambda x: np.array(x.split(\",\"),dtype=np.float32)).collect())\n",
    "for i in range(1,len(valid_splits)):\n",
    "    valid_data = np.row_stack((valid_data,np.array(valid_splits[i].map(lambda x: np.array(x.split(\",\"),dtype=np.float32)).collect())))"
   ]
  },
  {
   "cell_type": "code",
   "execution_count": 11,
   "metadata": {
    "collapsed": true
   },
   "outputs": [],
   "source": [
    "test = spark.sparkContext.textFile(path_to_test_dataset)\n",
    "\n",
    "test_splits = test.randomSplit([1] * 12, 2018)\n",
    "test_data = np.array(test_splits[0].map(lambda x: np.array(x.split(\",\"),dtype=np.float32)).collect())\n",
    "for i in range(1,len(test_splits)):\n",
    "    test_data = np.row_stack((test_data,np.array(test_splits[i].map(lambda x: np.array(x.split(\",\"),dtype=np.float32)).collect())))"
   ]
  },
  {
   "cell_type": "code",
   "execution_count": 12,
   "metadata": {
    "collapsed": false
   },
   "outputs": [
    {
     "data": {
      "text/plain": [
       "((78383, 2064), (11318, 2064), (22403, 2064))"
      ]
     },
     "execution_count": 12,
     "metadata": {},
     "output_type": "execute_result"
    }
   ],
   "source": [
    "train_data.shape,valid_data.shape,test_data.shape"
   ]
  },
  {
   "cell_type": "code",
   "execution_count": 13,
   "metadata": {
    "collapsed": true
   },
   "outputs": [],
   "source": [
    "X_train, y_train = train_data[:,:-14],train_data[:,-14:]\n",
    "X_val, y_val = valid_data[:,:-14],valid_data[:,-14:]\n",
    "X_test, y_test = test_data[:,:-14],test_data[:,-14:]"
   ]
  },
  {
   "cell_type": "markdown",
   "metadata": {},
   "source": [
    "## calculate weights for loss function"
   ]
  },
  {
   "cell_type": "code",
   "execution_count": 24,
   "metadata": {
    "collapsed": false
   },
   "outputs": [
    {
     "data": {
      "text/plain": [
       "array([  171.,   994.,  1211.,  1620.,  1769.,  1969.,  2378.,  3267.,\n",
       "        3756.,  4066.,  4504.,  8098.,  9349., 13912.], dtype=float32)"
      ]
     },
     "execution_count": 24,
     "metadata": {},
     "output_type": "execute_result"
    }
   ],
   "source": [
    "classes_positive_counts = y_train.sum(axis=0)\n",
    "\n",
    "classes_positive_counts"
   ]
  },
  {
   "cell_type": "code",
   "execution_count": 25,
   "metadata": {
    "collapsed": false
   },
   "outputs": [
    {
     "data": {
      "text/plain": [
       "array([0.0021816 , 0.01268132, 0.01544978, 0.02066775, 0.02256867,\n",
       "       0.02512024, 0.03033821, 0.04167996, 0.04791855, 0.05187349,\n",
       "       0.05746144, 0.10331322, 0.11927331, 0.17748747])"
      ]
     },
     "execution_count": 25,
     "metadata": {},
     "output_type": "execute_result"
    }
   ],
   "source": [
    "weights_neg = classes_positive_counts/y_train.shape[0]\n",
    "weights_neg"
   ]
  },
  {
   "cell_type": "code",
   "execution_count": 26,
   "metadata": {
    "collapsed": false
   },
   "outputs": [
    {
     "data": {
      "text/plain": [
       "array([0.9978184 , 0.98731868, 0.98455022, 0.97933225, 0.97743133,\n",
       "       0.97487976, 0.96966179, 0.95832004, 0.95208145, 0.94812651,\n",
       "       0.94253856, 0.89668678, 0.88072669, 0.82251253])"
      ]
     },
     "execution_count": 26,
     "metadata": {},
     "output_type": "execute_result"
    }
   ],
   "source": [
    "weights_pos = 1 - weights_neg\n",
    "weights_pos"
   ]
  },
  {
   "cell_type": "code",
   "execution_count": 27,
   "metadata": {
    "collapsed": true
   },
   "outputs": [],
   "source": [
    "pw = torch.autograd.Variable(torch.FloatTensor(weights_pos)).cuda()\n",
    "nw = torch.autograd.Variable(torch.FloatTensor(weights_neg)).cuda()"
   ]
  },
  {
   "cell_type": "code",
   "execution_count": 28,
   "metadata": {
    "collapsed": true
   },
   "outputs": [],
   "source": [
    "weights = (nw,pw)"
   ]
  },
  {
   "cell_type": "code",
   "execution_count": 29,
   "metadata": {
    "collapsed": true
   },
   "outputs": [],
   "source": [
    "def weighted_bceLoss(output,target,weights):\n",
    "    loss = weights[1] * target * torch.log(output) + weights[0] * (1-target) * torch.log(1-output)\n",
    "    return torch.neg(torch.mean(loss))"
   ]
  },
  {
   "cell_type": "markdown",
   "metadata": {},
   "source": [
    "## method to calculate auroc and thresholds"
   ]
  },
  {
   "cell_type": "code",
   "execution_count": 14,
   "metadata": {
    "collapsed": true
   },
   "outputs": [],
   "source": [
    "\n",
    "def compute_auroc(true_labels, predicts, class_count):\n",
    "        \n",
    "        auroc = []\n",
    "        optimal_thresholds = []\n",
    "        np_tl = true_labels.cpu().numpy()\n",
    "        np_pred = predicts.cpu().numpy()\n",
    "        \n",
    "        for i in range(class_count):\n",
    "            auroc.append(roc_auc_score(np_tl[:, i], np_pred[:, i]))\n",
    "            fpr, tpr, thresholds = roc_curve(np_tl[:, i], np_pred[:, i])\n",
    "            optimal_idx = np.argmax(tpr - fpr)\n",
    "            optimal_thresholds.append(thresholds[optimal_idx])\n",
    "        return auroc,optimal_thresholds"
   ]
  },
  {
   "cell_type": "markdown",
   "metadata": {},
   "source": [
    "## define the model"
   ]
  },
  {
   "cell_type": "code",
   "execution_count": 15,
   "metadata": {
    "collapsed": true
   },
   "outputs": [],
   "source": [
    "\n",
    "\n",
    "class ConvNet(nn.Module):\n",
    "    def __init__(self):\n",
    "        super(ConvNet, self).__init__()\n",
    "        self.fc1 = nn.Linear(in_features=2050, out_features=128, bias=True)\n",
    "        self.fc2 = nn.Linear(in_features=128, out_features=32)\n",
    "        self.fc3 = nn.Linear(in_features=32, out_features=14, bias=True)\n",
    "\n",
    "    def forward(self, x):\n",
    "        x = x.view(-1, 2050)\n",
    "        x = F.relu(self.fc1(x))\n",
    "        x = F.relu(self.fc2(x))\n",
    "        x = F.sigmoid(self.fc3(x))\n",
    "        return x\n"
   ]
  },
  {
   "cell_type": "markdown",
   "metadata": {},
   "source": [
    "## prepare tensor loaders"
   ]
  },
  {
   "cell_type": "code",
   "execution_count": 16,
   "metadata": {
    "collapsed": false
   },
   "outputs": [],
   "source": [
    "torch.manual_seed(0)\n",
    "if torch.cuda.is_available():\n",
    "    torch.cuda.manual_seed(0)\n",
    "\n",
    "trainset = TensorDataset(torch.from_numpy(X_train.astype('float32')).unsqueeze(1), torch.from_numpy(y_train.astype('float32')))\n",
    "trainloader = torch.utils.data.DataLoader(trainset, batch_size=10, shuffle=True, num_workers=2)\n",
    "\n",
    "valset = TensorDataset(torch.from_numpy(X_val.astype('float32')).unsqueeze(1), torch.from_numpy(y_val.astype('float32')))\n",
    "valloader = torch.utils.data.DataLoader(valset, batch_size=10, shuffle=False, num_workers=2)\n",
    "\n",
    "testset = TensorDataset(torch.from_numpy(X_test.astype('float32')).unsqueeze(1), torch.from_numpy(y_test.astype('float32')))\n",
    "testloader = torch.utils.data.DataLoader(testset, batch_size=10, shuffle=False, num_workers=2)\n",
    "\n"
   ]
  },
  {
   "cell_type": "markdown",
   "metadata": {},
   "source": [
    "## define method to evaluate training set"
   ]
  },
  {
   "cell_type": "code",
   "execution_count": 17,
   "metadata": {
    "collapsed": true
   },
   "outputs": [],
   "source": [
    "def evaluate_train(m):\n",
    "    \n",
    "    m.eval()\n",
    "    gt = torch.FloatTensor().cuda()\n",
    "    pred = torch.FloatTensor().cuda()\n",
    "    for data in trainloader:\n",
    "        \n",
    "        inputs, targets = data    \n",
    "\n",
    "        target = targets.cuda()\n",
    "        gt = torch.cat((gt, target), 0)\n",
    "        out = m(Variable(inputs).cuda())\n",
    "        \n",
    "        pred = torch.cat((pred, out.data), 0)\n",
    "    auroc,optimal_thresholds = compute_auroc(gt,pred,14)\n",
    "    return auroc,optimal_thresholds"
   ]
  },
  {
   "cell_type": "code",
   "execution_count": 143,
   "metadata": {
    "collapsed": true
   },
   "outputs": [],
   "source": [
    "def evaluate_test(m):\n",
    "    \n",
    "    m.eval()\n",
    "    gt = torch.FloatTensor().cuda()\n",
    "    pred = torch.FloatTensor().cuda()\n",
    "    for data in testloader:\n",
    "        \n",
    "        inputs, targets = data    \n",
    "\n",
    "        target = targets.cuda()\n",
    "        gt = torch.cat((gt, target), 0)\n",
    "        out = m(Variable(inputs).cuda())\n",
    "        \n",
    "        pred = torch.cat((pred, out.data), 0)\n",
    "    auroc,optimal_thresholds = compute_auroc(gt,pred,14)\n",
    "    return auroc,optimal_thresholds"
   ]
  },
  {
   "cell_type": "code",
   "execution_count": 151,
   "metadata": {
    "collapsed": false
   },
   "outputs": [],
   "source": [
    "def train(weights,lr=0.001,weight_decay=1e-5,epochs = 50, scheduler_factor = 0.2, patience = 1):\n",
    "    cuda = torch.cuda.is_available()\n",
    "    model = ConvNet()\n",
    "    criterion = nn.BCELoss()\n",
    "    criterion.forward = weighted_bceLoss\n",
    "    optimizer = optim.Adam (model.parameters(), lr=lr, betas=(0.9, 0.999), eps=1e-08, weight_decay=weight_decay)\n",
    "    scheduler = ReduceLROnPlateau(optimizer, factor = scheduler_factor, patience = patience, mode = 'min')\n",
    "    if cuda:\n",
    "        model = model.cuda()\n",
    "    auroc_initial,_ = evaluate_test(model)\n",
    "    train_losses = []\n",
    "    valid_losses = []\n",
    "    best_model = None\n",
    "    timestamp = time.strftime(\"%Y%m%d-%H%M%S\")\n",
    "    min_loss = 1000\n",
    "    \n",
    "    \n",
    "    start_time = time.time()\n",
    "    \n",
    "    for epoch in range(epochs):  \n",
    "\n",
    "        model.train()\n",
    "        train_loss = 0.0\n",
    "        train_counter = 0\n",
    "        for i, data in enumerate(trainloader, 0):\n",
    "            inputs, targets = data\n",
    "\n",
    "            inputs, targets = Variable(inputs), Variable(targets)\n",
    "            if cuda:\n",
    "                inputs, targets = inputs.cuda(), targets.cuda(async = True)\n",
    "\n",
    "            optimizer.zero_grad()\n",
    "\n",
    "            outputs = model(inputs)\n",
    "\n",
    "            loss = criterion(outputs, targets,weights)\n",
    "            loss.backward()\n",
    "            optimizer.step()\n",
    "\n",
    "            train_loss += (loss.data[0] * inputs.size(0))\n",
    "            train_counter += inputs.size(0)\n",
    "\n",
    "        train_losses.append(train_loss/train_counter)\n",
    "\n",
    "        model.eval()\n",
    "        valid_loss = 0.0\n",
    "        valid_counter = 0\n",
    "        losstensorMean = 0\n",
    "        for i, data in enumerate(valloader, 0):\n",
    "\n",
    "            inputs, targets = data\n",
    "\n",
    "            inputs, targets = Variable(inputs, volatile=True), Variable(targets, volatile=True)\n",
    "            if cuda:\n",
    "                inputs, targets = inputs.cuda(), targets.cuda(async = True)\n",
    "\n",
    "            outputs = model(inputs)\n",
    "\n",
    "            loss = criterion(outputs, targets,weights)\n",
    "            losstensorMean += loss\n",
    "            valid_loss += (loss.data[0] * inputs.size(0))\n",
    "            valid_counter += inputs.size(0)\n",
    "        m_val_loss = valid_loss/valid_counter\n",
    "        m_val_loss_tensor = losstensorMean/valid_counter\n",
    "        valid_losses.append(m_val_loss)\n",
    "\n",
    "        if m_val_loss < min_loss:\n",
    "            min_loss = m_val_loss\n",
    "            best_model = model\n",
    "            torch.save(model.state_dict(),'model' + timestamp + '.pth.tar')\n",
    "            print ('Epoch [' + str(epoch + 1) + '] [' + time.strftime(\"%Y%m%d-%H%M%S\") + '] loss= ' + str(m_val_loss))\n",
    "        scheduler.step(m_val_loss_tensor.data[0])\n",
    "    print('Finished Training ')\n",
    "    print(time.time()-start_time)\n",
    "    auroc,optimal_thresholds = evaluate_train(best_model)\n",
    "    return auroc_initial,best_model,auroc,optimal_thresholds, train_losses, valid_losses,min_loss,timestamp"
   ]
  },
  {
   "cell_type": "code",
   "execution_count": 51,
   "metadata": {
    "collapsed": true
   },
   "outputs": [],
   "source": [
    "def tune_lr_weight_decay():\n",
    "    log_cols=[\"lr\",\"weight_decay\", \"min_loss\",\"timestamp\"]\n",
    "    performance_df = pd.DataFrame(columns = log_cols)\n",
    "    lrs = [0.003,0.001,0.0003,0.0001,0.00003]\n",
    "    weight_decays = [1e-4,1e-5,1e-6,0]\n",
    "    auroc_initial_best = None\n",
    "    timestamp_best = None\n",
    "    best_model_best = None\n",
    "    train_losses_best = None\n",
    "    valid_losses_best = None\n",
    "    min_loss_best = 1000000;\n",
    "    for lr in lrs:\n",
    "        for weight_decay in weight_decays:\n",
    "            auroc_initial,best_model,auroc,optimal_thresholds, train_losses, valid_losses,min_loss,timestamp = train(weights,lr=lr,weight_decay=weight_decay)\n",
    "            log_entry = pd.DataFrame([[lr, weight_decay, min_loss,timestamp]], columns=log_cols)\n",
    "            performance_df = performance_df.append(log_entry)\n",
    "            if min_loss_best > min_loss:\n",
    "                auroc_initial_best = auroc_initial\n",
    "                timestamp_best = timestamp\n",
    "                best_model_best = best_model\n",
    "                train_losses_best = train_losses\n",
    "                valid_losses_best = valid_losses\n",
    "                min_loss_best = min_loss\n",
    "    return auroc_initial_best, timestamp_best, best_model_best, train_losses_best, valid_losses_best,min_loss_best,  performance_df\n",
    "    "
   ]
  },
  {
   "cell_type": "code",
   "execution_count": 53,
   "metadata": {
    "collapsed": false
   },
   "outputs": [
    {
     "name": "stdout",
     "output_type": "stream",
     "text": [
      "Epoch [1] [20180421-195835] loss= 0.06470189275679855\n",
      "Epoch [2] [20180421-195902] loss= 0.06469731579035558\n",
      "Epoch [4] [20180421-195952] loss= 0.059801447077700874\n",
      "Epoch [5] [20180421-200018] loss= 0.059184576656763514\n",
      "Epoch [8] [20180421-200134] loss= 0.058738297031559396\n",
      "Epoch [9] [20180421-200201] loss= 0.05855999734890579\n",
      "Epoch [10] [20180421-200227] loss= 0.0580404636648094\n",
      "Epoch [11] [20180421-200252] loss= 0.05763603593228557\n",
      "Epoch [12] [20180421-200318] loss= 0.05762460337085134\n",
      "Epoch [13] [20180421-200343] loss= 0.05743770729990672\n",
      "Epoch [14] [20180421-200409] loss= 0.0570540984595179\n",
      "Epoch [16] [20180421-200500] loss= 0.05686917538088283\n",
      "Epoch [19] [20180421-200622] loss= 0.05671829862902239\n",
      "Epoch [22] [20180421-200753] loss= 0.056642370246993264\n",
      "Epoch [24] [20180421-200848] loss= 0.056638573497970905\n",
      "Epoch [25] [20180421-200915] loss= 0.056618240351533115\n",
      "Finished Training \n",
      "1308.1027908325195\n",
      "Epoch [1] [20180421-202052] loss= 0.0647213897096919\n",
      "Epoch [2] [20180421-202120] loss= 0.06469241250322826\n",
      "Epoch [5] [20180421-202246] loss= 0.06163205741258724\n",
      "Epoch [6] [20180421-202314] loss= 0.059225688551531694\n",
      "Epoch [7] [20180421-202343] loss= 0.05899793959799894\n",
      "Epoch [8] [20180421-202411] loss= 0.0589791539176656\n",
      "Epoch [9] [20180421-202439] loss= 0.057998442282776126\n",
      "Epoch [10] [20180421-202507] loss= 0.057455146204687446\n",
      "Epoch [11] [20180421-202535] loss= 0.056916514249957265\n",
      "Epoch [14] [20180421-202658] loss= 0.056050013354991796\n",
      "Epoch [15] [20180421-202728] loss= 0.05602406736569952\n",
      "Epoch [16] [20180421-202757] loss= 0.055684147438027506\n",
      "Epoch [17] [20180421-202826] loss= 0.055645346981878945\n",
      "Epoch [18] [20180421-202852] loss= 0.05556763067379407\n",
      "Epoch [20] [20180421-202951] loss= 0.05542823866672615\n",
      "Epoch [22] [20180421-203046] loss= 0.055248054413921124\n",
      "Epoch [23] [20180421-203112] loss= 0.05515840093987525\n",
      "Epoch [26] [20180421-203237] loss= 0.0550969210431114\n",
      "Epoch [27] [20180421-203304] loss= 0.05500439641446554\n",
      "Epoch [29] [20180421-203357] loss= 0.05485335573567863\n",
      "Finished Training \n",
      "1390.8370542526245\n",
      "Epoch [1] [20180421-204429] loss= 0.06468555448077491\n",
      "Epoch [4] [20180421-204557] loss= 0.06467708234579282\n",
      "Epoch [5] [20180421-204627] loss= 0.06139135187322922\n",
      "Epoch [6] [20180421-204656] loss= 0.05822430270618507\n",
      "Epoch [7] [20180421-204723] loss= 0.057506531003331376\n",
      "Epoch [8] [20180421-204749] loss= 0.057406764316373725\n",
      "Epoch [9] [20180421-204818] loss= 0.05696085705546118\n",
      "Epoch [10] [20180421-204845] loss= 0.05673700467148346\n",
      "Epoch [11] [20180421-204912] loss= 0.056291823922984804\n",
      "Epoch [14] [20180421-205032] loss= 0.055767522539754526\n",
      "Epoch [15] [20180421-205101] loss= 0.05569192267168346\n",
      "Epoch [18] [20180421-205223] loss= 0.055653968938340154\n",
      "Epoch [20] [20180421-205320] loss= 0.05564360235434109\n",
      "Epoch [22] [20180421-205415] loss= 0.05563979487248025\n",
      "Finished Training \n",
      "1434.9110321998596\n",
      "Epoch [1] [20180421-210853] loss= 0.06467416217768861\n",
      "Finished Training \n",
      "1355.4909811019897\n",
      "Epoch [1] [20180421-213156] loss= 0.05922188311005559\n",
      "Epoch [2] [20180421-213224] loss= 0.058957340400010994\n",
      "Epoch [4] [20180421-213318] loss= 0.058703386870264364\n",
      "Epoch [5] [20180421-213349] loss= 0.05827868468947557\n",
      "Epoch [6] [20180421-213417] loss= 0.058249805734828075\n",
      "Epoch [9] [20180421-213539] loss= 0.057825435824885786\n",
      "Epoch [10] [20180421-213605] loss= 0.057438770681356326\n",
      "Epoch [13] [20180421-213727] loss= 0.05731384522678374\n",
      "Epoch [14] [20180421-213751] loss= 0.05729521707425766\n",
      "Epoch [15] [20180421-213818] loss= 0.05721779307457489\n",
      "Epoch [16] [20180421-213845] loss= 0.0571319417367069\n",
      "Epoch [20] [20180421-214036] loss= 0.05711639123582196\n",
      "Epoch [21] [20180421-214105] loss= 0.05711529425451182\n",
      "Epoch [23] [20180421-214202] loss= 0.057061294441472295\n",
      "Finished Training \n",
      "1353.3071179389954\n",
      "Epoch [1] [20180421-215449] loss= 0.05881361481059691\n",
      "Epoch [3] [20180421-215537] loss= 0.05761879210609348\n",
      "Epoch [6] [20180421-215655] loss= 0.056806190711888645\n",
      "Epoch [8] [20180421-215746] loss= 0.0567702396923716\n",
      "Epoch [9] [20180421-215810] loss= 0.05646305909881608\n",
      "Epoch [10] [20180421-215836] loss= 0.05627987295949384\n",
      "Epoch [11] [20180421-215902] loss= 0.055857550877637344\n",
      "Epoch [13] [20180421-215954] loss= 0.05576694240478592\n",
      "Epoch [14] [20180421-220021] loss= 0.05547073686024413\n",
      "Epoch [15] [20180421-220047] loss= 0.05546386330483116\n",
      "Epoch [16] [20180421-220111] loss= 0.05539725393726355\n",
      "Epoch [18] [20180421-220203] loss= 0.05533364941459001\n",
      "Epoch [20] [20180421-220252] loss= 0.05525114180388189\n",
      "Epoch [24] [20180421-220439] loss= 0.05506713032794227\n",
      "Epoch [27] [20180421-220558] loss= 0.05502508144333951\n",
      "Finished Training \n",
      "1296.2414245605469\n",
      "Epoch [1] [20180421-221652] loss= 0.058131090442206164\n",
      "Epoch [3] [20180421-221746] loss= 0.057013351547417074\n",
      "Epoch [4] [20180421-221813] loss= 0.05680481961826766\n",
      "Epoch [5] [20180421-221840] loss= 0.05654221806177525\n",
      "Epoch [6] [20180421-221906] loss= 0.056337116894752105\n",
      "Epoch [8] [20180421-221955] loss= 0.05604544062549875\n",
      "Epoch [10] [20180421-222047] loss= 0.05585228797475564\n",
      "Epoch [13] [20180421-222205] loss= 0.055520365337236734\n",
      "Epoch [14] [20180421-222233] loss= 0.05540128265390507\n",
      "Epoch [16] [20180421-222327] loss= 0.05529496071270691\n",
      "Epoch [17] [20180421-222353] loss= 0.05519874666375277\n",
      "Finished Training \n",
      "1292.8525366783142\n",
      "Epoch [1] [20180421-223850] loss= 0.0581543879956402\n",
      "Epoch [2] [20180421-223914] loss= 0.05798592856099537\n",
      "Epoch [3] [20180421-223940] loss= 0.05785475147782408\n",
      "Epoch [5] [20180421-224029] loss= 0.057133815648736284\n",
      "Epoch [6] [20180421-224057] loss= 0.056448850249317\n",
      "Epoch [10] [20180421-224235] loss= 0.05609927713205466\n",
      "Epoch [12] [20180421-224327] loss= 0.05587275193342263\n",
      "Epoch [13] [20180421-224351] loss= 0.05573848689465077\n",
      "Finished Training \n",
      "1252.2340168952942\n",
      "Epoch [1] [20180421-230007] loss= 0.05798822368081592\n",
      "Epoch [2] [20180421-230033] loss= 0.05705736203336067\n",
      "Epoch [4] [20180421-230123] loss= 0.057005250524978984\n",
      "Epoch [5] [20180421-230148] loss= 0.05633759669719926\n",
      "Epoch [8] [20180421-230303] loss= 0.056015537229514224\n",
      "Epoch [9] [20180421-230328] loss= 0.056008896078169876\n",
      "Epoch [10] [20180421-230353] loss= 0.05592904307335262\n",
      "Epoch [12] [20180421-230445] loss= 0.055811065578292435\n",
      "Epoch [13] [20180421-230511] loss= 0.05568731587164909\n",
      "Epoch [15] [20180421-230600] loss= 0.05564617822866707\n",
      "Epoch [17] [20180421-230652] loss= 0.05559181875066562\n",
      "Epoch [18] [20180421-230718] loss= 0.05555554913637663\n",
      "Epoch [20] [20180421-230808] loss= 0.05548343596755168\n",
      "Epoch [21] [20180421-230833] loss= 0.05529533084323964\n",
      "Epoch [25] [20180421-231017] loss= 0.05525446766804766\n",
      "Finished Training \n",
      "1273.8458442687988\n",
      "Epoch [1] [20180421-232147] loss= 0.05779420276621581\n",
      "Epoch [2] [20180421-232212] loss= 0.056718962011622825\n",
      "Epoch [3] [20180421-232240] loss= 0.05654810461521617\n",
      "Epoch [4] [20180421-232305] loss= 0.056335878260413925\n",
      "Epoch [5] [20180421-232333] loss= 0.05623413646769126\n",
      "Epoch [7] [20180421-232425] loss= 0.05574204543459634\n",
      "Epoch [8] [20180421-232455] loss= 0.05524013330328852\n",
      "Epoch [11] [20180421-232618] loss= 0.05473210897993143\n",
      "Epoch [12] [20180421-232645] loss= 0.054646663725696064\n",
      "Epoch [14] [20180421-232736] loss= 0.054553744651905156\n",
      "Epoch [18] [20180421-232916] loss= 0.054525043963655276\n",
      "Epoch [19] [20180421-232944] loss= 0.05452494973352666\n",
      "Finished Training \n",
      "1313.0044577121735\n",
      "Epoch [1] [20180421-234402] loss= 0.0574190241307215\n",
      "Epoch [2] [20180421-234428] loss= 0.056954169412869134\n",
      "Epoch [3] [20180421-234453] loss= 0.05638704584678758\n",
      "Epoch [4] [20180421-234520] loss= 0.05574109632193379\n",
      "Epoch [5] [20180421-234548] loss= 0.05531704113401511\n",
      "Epoch [8] [20180421-234707] loss= 0.05519825204802678\n",
      "Epoch [10] [20180421-234758] loss= 0.05494470985872593\n",
      "Epoch [13] [20180421-234916] loss= 0.054786171180392446\n",
      "Epoch [14] [20180421-234943] loss= 0.05477787050964776\n",
      "Epoch [17] [20180421-235106] loss= 0.05477038147722844\n",
      "Epoch [18] [20180421-235132] loss= 0.05475556858283515\n",
      "Epoch [19] [20180421-235201] loss= 0.05471230680914571\n",
      "Finished Training \n",
      "1338.8330342769623\n",
      "Epoch [1] [20180422-000644] loss= 0.05718107245905932\n",
      "Epoch [2] [20180422-000708] loss= 0.056853623092069205\n",
      "Epoch [3] [20180422-000732] loss= 0.05614891844283362\n",
      "Epoch [4] [20180422-000756] loss= 0.05568590563993337\n",
      "Epoch [5] [20180422-000820] loss= 0.055199352564050876\n",
      "Epoch [8] [20180422-000933] loss= 0.054917135578222254\n",
      "Epoch [11] [20180422-001047] loss= 0.05482949464502747\n",
      "Epoch [12] [20180422-001112] loss= 0.05481273689351543\n",
      "Epoch [15] [20180422-001225] loss= 0.05481267662975298\n",
      "Epoch [17] [20180422-001318] loss= 0.05480471227984901\n",
      "Epoch [19] [20180422-001409] loss= 0.05480014946262998\n",
      "Epoch [25] [20180422-001646] loss= 0.054800101229534236\n",
      "Epoch [26] [20180422-001713] loss= 0.05480003490863672\n",
      "Epoch [27] [20180422-001737] loss= 0.054800003843211174\n",
      "Epoch [28] [20180422-001802] loss= 0.05479996036596624\n",
      "Epoch [29] [20180422-001826] loss= 0.05479990537712006\n",
      "Epoch [30] [20180422-001850] loss= 0.05479984306671906\n",
      "Epoch [31] [20180422-001914] loss= 0.05479979826942847\n",
      "Epoch [32] [20180422-001940] loss= 0.05479975359359327\n",
      "Epoch [33] [20180422-002006] loss= 0.054799713030125714\n",
      "Epoch [34] [20180422-002034] loss= 0.05479967599561203\n",
      "Epoch [35] [20180422-002059] loss= 0.05479964324495179\n",
      "Epoch [36] [20180422-002125] loss= 0.05479960261581933\n",
      "Epoch [37] [20180422-002151] loss= 0.05479956781259588\n",
      "Epoch [38] [20180422-002216] loss= 0.054799515477665206\n",
      "Epoch [39] [20180422-002240] loss= 0.05479947457369466\n",
      "Epoch [40] [20180422-002306] loss= 0.05479942149554915\n",
      "Epoch [41] [20180422-002332] loss= 0.05479938216720722\n",
      "Epoch [42] [20180422-002356] loss= 0.05479933577898266\n",
      "Epoch [43] [20180422-002420] loss= 0.05479930218060328\n",
      "Epoch [44] [20180422-002445] loss= 0.05479926614258336\n",
      "Epoch [45] [20180422-002509] loss= 0.05479923833703369\n",
      "Epoch [46] [20180422-002533] loss= 0.05479918095380473\n",
      "Epoch [47] [20180422-002559] loss= 0.054799146216904494\n",
      "Epoch [48] [20180422-002624] loss= 0.054799112724346004\n",
      "Epoch [49] [20180422-002650] loss= 0.05479908071755889\n",
      "Epoch [50] [20180422-002715] loss= 0.05479904279846156\n",
      "Finished Training \n",
      "1257.1693069934845\n",
      "Epoch [1] [20180422-002803] loss= 0.06018172231616222\n",
      "Epoch [2] [20180422-002831] loss= 0.05792823789881868\n",
      "Epoch [3] [20180422-002856] loss= 0.05745846853973477\n",
      "Epoch [4] [20180422-002921] loss= 0.0567890256995483\n",
      "Epoch [5] [20180422-002944] loss= 0.056486250202030464\n",
      "Epoch [7] [20180422-003037] loss= 0.05616481907081164\n",
      "Epoch [10] [20180422-003157] loss= 0.055738482475846896\n",
      "Epoch [12] [20180422-003249] loss= 0.055662137012383\n",
      "Epoch [15] [20180422-003408] loss= 0.05564828112788589\n",
      "Epoch [16] [20180422-003431] loss= 0.05561829396783726\n",
      "Epoch [17] [20180422-003458] loss= 0.05559192534933075\n",
      "Epoch [19] [20180422-003551] loss= 0.05556046765611658\n",
      "Epoch [21] [20180422-003647] loss= 0.055506228198753026\n",
      "Epoch [23] [20180422-003739] loss= 0.05549729854048857\n",
      "Finished Training \n",
      "1291.8496849536896\n",
      "Epoch [1] [20180422-005000] loss= 0.05790516626228712\n",
      "Epoch [2] [20180422-005024] loss= 0.05716124592758064\n",
      "Epoch [3] [20180422-005050] loss= 0.056651397433937024\n",
      "Epoch [6] [20180422-005205] loss= 0.05557850326169009\n",
      "Epoch [9] [20180422-005321] loss= 0.055371505601480034\n",
      "Epoch [10] [20180422-005346] loss= 0.05535041950534444\n",
      "Epoch [11] [20180422-005412] loss= 0.05530098234445652\n",
      "Finished Training \n",
      "1279.520269870758\n",
      "Epoch [1] [20180422-011142] loss= 0.05821170249664545\n",
      "Epoch [2] [20180422-011208] loss= 0.05749797179964527\n",
      "Epoch [3] [20180422-011233] loss= 0.05702474805519688\n",
      "Epoch [4] [20180422-011258] loss= 0.056083248400236846\n",
      "Epoch [5] [20180422-011324] loss= 0.05563047129011108\n",
      "Epoch [6] [20180422-011350] loss= 0.055496280043224475\n",
      "Epoch [8] [20180422-011441] loss= 0.05513109701973118\n",
      "Epoch [11] [20180422-011555] loss= 0.054828674122519995\n",
      "Epoch [12] [20180422-011623] loss= 0.05476601552537472\n",
      "Epoch [16] [20180422-011804] loss= 0.05474561522941083\n",
      "Finished Training \n",
      "1273.02818775177\n",
      "Epoch [1] [20180422-013320] loss= 0.058187487718678335\n",
      "Epoch [2] [20180422-013344] loss= 0.05698692013071312\n",
      "Epoch [3] [20180422-013410] loss= 0.05627672485335753\n",
      "Epoch [4] [20180422-013434] loss= 0.05596454947167176\n",
      "Epoch [5] [20180422-013459] loss= 0.055766355777549376\n",
      "Epoch [7] [20180422-013551] loss= 0.055653007093104064\n",
      "Epoch [9] [20180422-013638] loss= 0.055188117322534515\n",
      "Epoch [12] [20180422-013755] loss= 0.05481033053816571\n",
      "Epoch [16] [20180422-013936] loss= 0.05480486889739912\n",
      "Epoch [19] [20180422-014049] loss= 0.054804617364435496\n",
      "Finished Training \n",
      "1249.6126670837402\n",
      "Epoch [1] [20180422-015435] loss= 0.05945770499099162\n",
      "Epoch [2] [20180422-015500] loss= 0.05847139137939085\n",
      "Epoch [3] [20180422-015525] loss= 0.05759310744667268\n",
      "Epoch [4] [20180422-015553] loss= 0.057262027932073904\n",
      "Epoch [5] [20180422-015619] loss= 0.05694464653240621\n",
      "Epoch [7] [20180422-015711] loss= 0.056478489382891274\n",
      "Epoch [10] [20180422-015826] loss= 0.05608504193595176\n",
      "Epoch [14] [20180422-020009] loss= 0.05603400451651382\n",
      "Epoch [16] [20180422-020059] loss= 0.056032709613439785\n",
      "Epoch [18] [20180422-020149] loss= 0.056023455993984145\n",
      "Finished Training \n",
      "1284.0250911712646\n",
      "Epoch [1] [20180422-021625] loss= 0.05981747253071685\n",
      "Epoch [2] [20180422-021655] loss= 0.05838496019900172\n",
      "Epoch [3] [20180422-021723] loss= 0.05754393286296032\n",
      "Epoch [4] [20180422-021752] loss= 0.056979647042194555\n",
      "Epoch [5] [20180422-021821] loss= 0.05649010624646361\n",
      "Epoch [6] [20180422-021848] loss= 0.056288423459206045\n",
      "Epoch [7] [20180422-021916] loss= 0.05614912404097323\n",
      "Epoch [9] [20180422-022011] loss= 0.05587840603737259\n",
      "Epoch [10] [20180422-022038] loss= 0.05569427369653199\n",
      "Epoch [12] [20180422-022136] loss= 0.05558560533756148\n",
      "Epoch [13] [20180422-022204] loss= 0.05540380901754966\n",
      "Epoch [16] [20180422-022330] loss= 0.0552887263926535\n",
      "Epoch [18] [20180422-022425] loss= 0.05528612775926582\n",
      "Epoch [19] [20180422-022453] loss= 0.05521238579053216\n",
      "Epoch [20] [20180422-022522] loss= 0.055200648850202295\n",
      "Epoch [21] [20180422-022550] loss= 0.05519492095206305\n",
      "Epoch [23] [20180422-022643] loss= 0.05518406557791787\n",
      "Finished Training \n",
      "1345.4825718402863\n",
      "Epoch [1] [20180422-023915] loss= 0.05976086149374321\n",
      "Epoch [2] [20180422-023942] loss= 0.05803513550088481\n",
      "Epoch [3] [20180422-024008] loss= 0.05765705387516006\n",
      "Epoch [4] [20180422-024032] loss= 0.05718022297339076\n",
      "Epoch [5] [20180422-024057] loss= 0.05660955922161023\n",
      "Epoch [6] [20180422-024125] loss= 0.05647617294945983\n",
      "Epoch [7] [20180422-024151] loss= 0.056354379326823974\n",
      "Epoch [8] [20180422-024215] loss= 0.05609297698334367\n",
      "Epoch [9] [20180422-024238] loss= 0.05605930221115801\n",
      "Epoch [10] [20180422-024304] loss= 0.05588467230710604\n",
      "Epoch [11] [20180422-024329] loss= 0.05586641962585843\n",
      "Epoch [12] [20180422-024356] loss= 0.055679632281187746\n",
      "Epoch [13] [20180422-024424] loss= 0.055363092205649625\n",
      "Epoch [16] [20180422-024540] loss= 0.05517988877489776\n",
      "Finished Training \n",
      "1304.0771081447601\n",
      "Epoch [1] [20180422-030124] loss= 0.059673194993530236\n",
      "Epoch [2] [20180422-030149] loss= 0.05855230778260879\n",
      "Epoch [3] [20180422-030213] loss= 0.056937489992678746\n",
      "Epoch [4] [20180422-030238] loss= 0.05663965820850132\n",
      "Epoch [5] [20180422-030303] loss= 0.056596877801861206\n",
      "Epoch [6] [20180422-030330] loss= 0.056322912330916776\n",
      "Epoch [7] [20180422-030356] loss= 0.05622703560785494\n",
      "Epoch [8] [20180422-030419] loss= 0.05607213466480061\n",
      "Epoch [10] [20180422-030509] loss= 0.0556756546867333\n",
      "Epoch [12] [20180422-030603] loss= 0.05513474376953481\n",
      "Epoch [16] [20180422-030744] loss= 0.05512401279319426\n",
      "Epoch [17] [20180422-030808] loss= 0.05508394154286686\n",
      "Epoch [19] [20180422-030858] loss= 0.05507597126649934\n",
      "Epoch [20] [20180422-030923] loss= 0.055029484625549616\n",
      "Epoch [23] [20180422-031039] loss= 0.05500518615856401\n",
      "Epoch [25] [20180422-031127] loss= 0.05498833742363332\n",
      "Epoch [27] [20180422-031217] loss= 0.05495784975595563\n",
      "Finished Training \n",
      "1261.5265979766846\n"
     ]
    }
   ],
   "source": [
    "auroc_initial_best, timestamp_best, best_model_best, train_losses_best, valid_losses_best,min_loss_best,  performance_df = tune_lr_weight_decay()"
   ]
  },
  {
   "cell_type": "code",
   "execution_count": 54,
   "metadata": {
    "collapsed": false,
    "scrolled": true
   },
   "outputs": [
    {
     "data": {
      "text/html": [
       "<div>\n",
       "<style scoped>\n",
       "    .dataframe tbody tr th:only-of-type {\n",
       "        vertical-align: middle;\n",
       "    }\n",
       "\n",
       "    .dataframe tbody tr th {\n",
       "        vertical-align: top;\n",
       "    }\n",
       "\n",
       "    .dataframe thead th {\n",
       "        text-align: right;\n",
       "    }\n",
       "</style>\n",
       "<table border=\"1\" class=\"dataframe\">\n",
       "  <thead>\n",
       "    <tr style=\"text-align: right;\">\n",
       "      <th></th>\n",
       "      <th>lr</th>\n",
       "      <th>weight_decay</th>\n",
       "      <th>min_loss</th>\n",
       "      <th>timestamp</th>\n",
       "    </tr>\n",
       "  </thead>\n",
       "  <tbody>\n",
       "    <tr>\n",
       "      <th>0</th>\n",
       "      <td>0.00300</td>\n",
       "      <td>0.000100</td>\n",
       "      <td>0.056618</td>\n",
       "      <td>20180421-195810</td>\n",
       "    </tr>\n",
       "    <tr>\n",
       "      <th>0</th>\n",
       "      <td>0.00300</td>\n",
       "      <td>0.000010</td>\n",
       "      <td>0.054853</td>\n",
       "      <td>20180421-202024</td>\n",
       "    </tr>\n",
       "    <tr>\n",
       "      <th>0</th>\n",
       "      <td>0.00300</td>\n",
       "      <td>0.000001</td>\n",
       "      <td>0.055640</td>\n",
       "      <td>20180421-204402</td>\n",
       "    </tr>\n",
       "    <tr>\n",
       "      <th>0</th>\n",
       "      <td>0.00300</td>\n",
       "      <td>0.000000</td>\n",
       "      <td>0.064674</td>\n",
       "      <td>20180421-210824</td>\n",
       "    </tr>\n",
       "    <tr>\n",
       "      <th>0</th>\n",
       "      <td>0.00100</td>\n",
       "      <td>0.000100</td>\n",
       "      <td>0.057061</td>\n",
       "      <td>20180421-213127</td>\n",
       "    </tr>\n",
       "    <tr>\n",
       "      <th>0</th>\n",
       "      <td>0.00100</td>\n",
       "      <td>0.000010</td>\n",
       "      <td>0.055025</td>\n",
       "      <td>20180421-215424</td>\n",
       "    </tr>\n",
       "    <tr>\n",
       "      <th>0</th>\n",
       "      <td>0.00100</td>\n",
       "      <td>0.000001</td>\n",
       "      <td>0.055199</td>\n",
       "      <td>20180421-221627</td>\n",
       "    </tr>\n",
       "    <tr>\n",
       "      <th>0</th>\n",
       "      <td>0.00100</td>\n",
       "      <td>0.000000</td>\n",
       "      <td>0.055738</td>\n",
       "      <td>20180421-223825</td>\n",
       "    </tr>\n",
       "    <tr>\n",
       "      <th>0</th>\n",
       "      <td>0.00030</td>\n",
       "      <td>0.000100</td>\n",
       "      <td>0.055254</td>\n",
       "      <td>20180421-225942</td>\n",
       "    </tr>\n",
       "    <tr>\n",
       "      <th>0</th>\n",
       "      <td>0.00030</td>\n",
       "      <td>0.000010</td>\n",
       "      <td>0.054525</td>\n",
       "      <td>20180421-232120</td>\n",
       "    </tr>\n",
       "    <tr>\n",
       "      <th>0</th>\n",
       "      <td>0.00030</td>\n",
       "      <td>0.000001</td>\n",
       "      <td>0.054712</td>\n",
       "      <td>20180421-234335</td>\n",
       "    </tr>\n",
       "    <tr>\n",
       "      <th>0</th>\n",
       "      <td>0.00030</td>\n",
       "      <td>0.000000</td>\n",
       "      <td>0.054799</td>\n",
       "      <td>20180422-000618</td>\n",
       "    </tr>\n",
       "    <tr>\n",
       "      <th>0</th>\n",
       "      <td>0.00010</td>\n",
       "      <td>0.000100</td>\n",
       "      <td>0.055497</td>\n",
       "      <td>20180422-002739</td>\n",
       "    </tr>\n",
       "    <tr>\n",
       "      <th>0</th>\n",
       "      <td>0.00010</td>\n",
       "      <td>0.000010</td>\n",
       "      <td>0.055301</td>\n",
       "      <td>20180422-004934</td>\n",
       "    </tr>\n",
       "    <tr>\n",
       "      <th>0</th>\n",
       "      <td>0.00010</td>\n",
       "      <td>0.000001</td>\n",
       "      <td>0.054746</td>\n",
       "      <td>20180422-011117</td>\n",
       "    </tr>\n",
       "    <tr>\n",
       "      <th>0</th>\n",
       "      <td>0.00010</td>\n",
       "      <td>0.000000</td>\n",
       "      <td>0.054805</td>\n",
       "      <td>20180422-013255</td>\n",
       "    </tr>\n",
       "    <tr>\n",
       "      <th>0</th>\n",
       "      <td>0.00003</td>\n",
       "      <td>0.000100</td>\n",
       "      <td>0.056023</td>\n",
       "      <td>20180422-015409</td>\n",
       "    </tr>\n",
       "    <tr>\n",
       "      <th>0</th>\n",
       "      <td>0.00003</td>\n",
       "      <td>0.000010</td>\n",
       "      <td>0.055184</td>\n",
       "      <td>20180422-021558</td>\n",
       "    </tr>\n",
       "    <tr>\n",
       "      <th>0</th>\n",
       "      <td>0.00003</td>\n",
       "      <td>0.000001</td>\n",
       "      <td>0.055180</td>\n",
       "      <td>20180422-023849</td>\n",
       "    </tr>\n",
       "    <tr>\n",
       "      <th>0</th>\n",
       "      <td>0.00003</td>\n",
       "      <td>0.000000</td>\n",
       "      <td>0.054958</td>\n",
       "      <td>20180422-030058</td>\n",
       "    </tr>\n",
       "  </tbody>\n",
       "</table>\n",
       "</div>"
      ],
      "text/plain": [
       "        lr  weight_decay  min_loss        timestamp\n",
       "0  0.00300      0.000100  0.056618  20180421-195810\n",
       "0  0.00300      0.000010  0.054853  20180421-202024\n",
       "0  0.00300      0.000001  0.055640  20180421-204402\n",
       "0  0.00300      0.000000  0.064674  20180421-210824\n",
       "0  0.00100      0.000100  0.057061  20180421-213127\n",
       "0  0.00100      0.000010  0.055025  20180421-215424\n",
       "0  0.00100      0.000001  0.055199  20180421-221627\n",
       "0  0.00100      0.000000  0.055738  20180421-223825\n",
       "0  0.00030      0.000100  0.055254  20180421-225942\n",
       "0  0.00030      0.000010  0.054525  20180421-232120\n",
       "0  0.00030      0.000001  0.054712  20180421-234335\n",
       "0  0.00030      0.000000  0.054799  20180422-000618\n",
       "0  0.00010      0.000100  0.055497  20180422-002739\n",
       "0  0.00010      0.000010  0.055301  20180422-004934\n",
       "0  0.00010      0.000001  0.054746  20180422-011117\n",
       "0  0.00010      0.000000  0.054805  20180422-013255\n",
       "0  0.00003      0.000100  0.056023  20180422-015409\n",
       "0  0.00003      0.000010  0.055184  20180422-021558\n",
       "0  0.00003      0.000001  0.055180  20180422-023849\n",
       "0  0.00003      0.000000  0.054958  20180422-030058"
      ]
     },
     "execution_count": 54,
     "metadata": {},
     "output_type": "execute_result"
    }
   ],
   "source": [
    "performance_df"
   ]
  },
  {
   "cell_type": "code",
   "execution_count": 93,
   "metadata": {
    "collapsed": false
   },
   "outputs": [
    {
     "data": {
      "text/plain": [
       "<matplotlib.legend.Legend at 0x7f7d910958d0>"
      ]
     },
     "execution_count": 93,
     "metadata": {},
     "output_type": "execute_result"
    },
    {
     "data": {
      "image/png": "[encoded data removed]",
      "text/plain": [
       "<Figure size 432x288 with 1 Axes>"
      ]
     },
     "metadata": {},
     "output_type": "display_data"
    }
   ],
   "source": [
    "ax = plt.subplot(1,1,1)\n",
    "plt.plot(np.arange(5), performance_df[performance_df['weight_decay'] == 0].min_loss.values, label='0')\n",
    "plt.plot(np.arange(5), performance_df[performance_df['weight_decay'] == 0.000001].min_loss.values, label='1e-6')\n",
    "plt.plot(np.arange(5), performance_df[performance_df['weight_decay'] == 0.00001].min_loss.values, label='1e-5')\n",
    "plt.plot(np.arange(5), performance_df[performance_df['weight_decay'] == 0.0001].min_loss.values, label='1e-4')\n",
    "\n",
    "plt.ylabel('Loss')\n",
    "plt.xlabel('Learning Rate')\n",
    "ax.set_xticklabels(['','0.003','','0.001','','0.0003','','0.0001','','0.00003'])\n",
    "plt.legend(loc=\"best\",title='weight_decay')"
   ]
  },
  {
   "cell_type": "code",
   "execution_count": 55,
   "metadata": {
    "collapsed": false
   },
   "outputs": [
    {
     "data": {
      "text/plain": [
       "'20180421-232120'"
      ]
     },
     "execution_count": 55,
     "metadata": {},
     "output_type": "execute_result"
    }
   ],
   "source": [
    "timestamp_best"
   ]
  },
  {
   "cell_type": "code",
   "execution_count": 141,
   "metadata": {
    "collapsed": false
   },
   "outputs": [
    {
     "data": {
      "text/plain": [
       "<matplotlib.legend.Legend at 0x7f7d905febe0>"
      ]
     },
     "execution_count": 141,
     "metadata": {},
     "output_type": "execute_result"
    },
    {
     "data": {
      "image/png": "[encoded data removed]",
      "text/plain": [
       "<Figure size 432x288 with 1 Axes>"
      ]
     },
     "metadata": {},
     "output_type": "display_data"
    }
   ],
   "source": [
    "plt.figure()\n",
    "plt.plot(np.arange(len(train_losses_best)), train_losses_best, label='Train')\n",
    "plt.plot(np.arange(len(valid_losses_best)), valid_losses_best, label='Validation')\n",
    "plt.ylabel('Loss')\n",
    "plt.xlabel('epoch')\n",
    "plt.legend(loc=\"best\")"
   ]
  },
  {
   "cell_type": "code",
   "execution_count": 148,
   "metadata": {
    "collapsed": true
   },
   "outputs": [],
   "source": [
    "test_auroc,_ = evaluate_test(best_model)"
   ]
  },
  {
   "cell_type": "code",
   "execution_count": 149,
   "metadata": {
    "collapsed": false
   },
   "outputs": [],
   "source": [
    "df = pd.DataFrame({'trained':test_auroc, 'initial':auroc_initial_best, 'disease':('Hernia', 'Pneumonia', \n",
    "               'Fibrosis', 'Edema', 'Emphysema', 'Cardiomegaly',  \n",
    "               'Pleural_Thickening',  'Consolidation',  'Pneumothorax',  \n",
    "               'Mass',  'Nodule',  'Atelectasis', 'Effusion', 'Infiltration'),'Wang, 2017':(0.767,0.633,0.769,0.835,0.815,0.807,0.708,0.708,0.806,0.706,0.671,0.716,0.784,0.609),'Rajpurkar, 2017':(0.9164,0.7680,0.8047,0.8878,0.9371,0.9248,0.8062,0.7901,0.8887,0.8676,0.7802,0.8094,0.8638,0.7345)})"
   ]
  },
  {
   "cell_type": "code",
   "execution_count": 150,
   "metadata": {
    "collapsed": false
   },
   "outputs": [
    {
     "data": {
      "text/plain": [
       "<matplotlib.legend.Legend at 0x7f7d905d2cf8>"
      ]
     },
     "execution_count": 150,
     "metadata": {},
     "output_type": "execute_result"
    },
    {
     "data": {
      "image/png": "[encoded data removed]",
      "text/plain": [
       "<Figure size 432x288 with 1 Axes>"
      ]
     },
     "metadata": {},
     "output_type": "display_data"
    }
   ],
   "source": [
    "ax = df.set_index('disease').plot(style=\"o-\")\n",
    "ax.set_ylabel(\"AUROC\")\n",
    "ax.set_xlabel(\"\")\n",
    "ax.set_xticks(np.arange(14))\n",
    "ax.set_xticklabels(df['disease'].tolist(),rotation=90)\n",
    "ax.legend(loc=[0.2,0.25],prop={'size':8},fancybox=True)\n"
   ]
  }
 ],
 "metadata": {
  "anaconda-cloud": {},
  "kernelspec": {
   "display_name": "Python [default]",
   "language": "python",
   "name": "python3"
  },
  "language_info": {
   "codemirror_mode": {
    "name": "ipython",
    "version": 3
   },
   "file_extension": ".py",
   "mimetype": "text/x-python",
   "name": "python",
   "nbconvert_exporter": "python",
   "pygments_lexer": "ipython3",
   "version": "3.5.4"
  }
 },
 "nbformat": 4,
 "nbformat_minor": 1
}
